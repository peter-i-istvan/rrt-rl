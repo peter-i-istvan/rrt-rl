{
 "cells": [
  {
   "cell_type": "code",
   "metadata": {},
   "source": [
    "import os\n",
    "import numpy as np\n",
    "import pandas as pd\n",
    "import matplotlib.pyplot as plt"
   ],
   "outputs": [],
   "execution_count": null
  },
  {
   "cell_type": "code",
   "metadata": {},
   "source": [
    "ENV = \"cartpole\" # cartpole, acrobot, mountain_car\n",
    "\n",
    "n_dqn_samples = {\n",
    "    \"acrobot\": 100000,\n",
    "    \"cartpole\": 5000,\n",
    "    \"mountain_car\": 200000,\n",
    "}\n",
    "n_rrt_samples = {\n",
    "    \"acrobot\": 10000,\n",
    "    \"cartpole\": 1000,\n",
    "    \"mountain_car\": 50000,\n",
    "}"
   ],
   "outputs": [],
   "execution_count": null
  },
  {
   "cell_type": "markdown",
   "metadata": {},
   "source": [
    "## Comparative convergence"
   ]
  },
  {
   "cell_type": "code",
   "metadata": {},
   "source": [
    "# Best step\n",
    "# MC: 641 (RRT), 1920 (DQN)\n",
    "# Acrobot: 955 (RRT), 484 (DQN)\n",
    "# Cartpole 570 (RRT) 388 (DQN)\n",
    "# np.argmax(r_dqn)"
   ],
   "outputs": [],
   "execution_count": null
  },
  {
   "cell_type": "code",
   "metadata": {},
   "source": [
    "r_dqn = np.load(os.path.join(\"output\", ENV, \"rewards.dqn.npy\"))\n",
    "r_rrt = np.load(os.path.join(\"output\", ENV, \"rewards.rrt.npy\")) # Until best step + 100\n",
    "\n",
    "plt.plot(np.maximum.accumulate(r_dqn), color=\"b\", label=f\"baseline (N={n_dqn_samples[ENV]})\")\n",
    "plt.plot(np.maximum.accumulate(r_rrt), color=\"r\", label=f\"RRT (N={n_rrt_samples[ENV]})\")\n",
    "plt.plot(r_dqn, color=\"b\", alpha=0.2)\n",
    "plt.plot(r_rrt, color=\"r\", alpha=0.2)\n",
    "plt.legend()\n",
    "\n",
    "plt.title(f\"{ENV.capitalize().replace(\"_\", \" \")}: Validation rewards and cumulative best results\")\n",
    "if ENV in {\"acrobot\", \"mountain_car\"}:\n",
    "    plt.ylim(top=0)\n",
    "plt.ylabel(\"validation reward\")\n",
    "plt.xlabel(\"step\")\n",
    "\n",
    "plt.savefig(os.path.join(\"output\", ENV, \"convergence.png\"), dpi=200)"
   ],
   "outputs": [],
   "execution_count": null
  },
  {
   "cell_type": "markdown",
   "metadata": {},
   "source": [
    "## Proportion of useful samples (relevant for Acrobot)"
   ]
  },
  {
   "cell_type": "code",
   "metadata": {},
   "source": [
    "base_samples = pd.read_csv(os.path.join(\"output\", ENV, \"samples.baseline.csv\"))\n",
    "rrt_samples = pd.read_csv(os.path.join(\"output\", ENV, \"samples.rrt.csv\"))\n",
    "\n",
    "n_base = sum(base_samples.reward > -0.5)\n",
    "n_rrt = sum(rrt_samples.reward > -0.5)\n",
    "\n",
    "print(\"All base rewards with positive terminal outcome: \")\n",
    "print(f\"base:\\t{n_base} ({n_base/len(base_samples)*100:.2f} %)\")\n",
    "print(f\"RRT:\\t{n_rrt} ({n_rrt/len(rrt_samples)*100:.2f} %)\")"
   ],
   "outputs": [],
   "execution_count": null
  },
  {
   "cell_type": "markdown",
   "metadata": {},
   "source": [
    "## State space coverage (best with Mountain Car)"
   ]
  },
  {
   "cell_type": "markdown",
   "metadata": {},
   "source": [
    "## Other"
   ]
  },
  {
   "cell_type": "code",
   "metadata": {},
   "source": [
    "states_b = np.load(os.path.join(\"output\", ENV, \"states.baseline.npy\"))\n",
    "# states_e = np.load(os.path.join(\"output\", ENV, \"states.baseline.equivalent.npy\"))\n",
    "states_r = np.load(os.path.join(\"output\", ENV, \"states.rrt.npy\"))\n",
    "\n",
    "plt.scatter(states_r[:,0], states_r[:,1], alpha=0.2, label=f\"RRT (N={n_rrt_samples[ENV]})\", c=\"tab:orange\", marker=\"o\")\n",
    "plt.scatter(states_b[:,0], states_b[:,1], alpha=0.2, label=f\"baseline (N={n_dqn_samples[ENV]})\", c=\"tab:blue\", marker=\"o\")\n",
    "plt.title(f\"{ENV.capitalize().replace(\"_\", \" \")}: State space coverage\")\n",
    "plt.xlabel(\"$x$\")\n",
    "plt.ylabel(\"$x'$\")\n",
    "plt.legend()\n",
    "plt.savefig(os.path.join(\"output\", ENV, \"coverage.png\"), dpi=200)"
   ],
   "outputs": [],
   "execution_count": null
  },
  {
   "cell_type": "code",
   "metadata": {},
   "source": [
    "import numpy as np\n",
    "import os\n",
    "import matplotlib.pyplot as plt\n",
    "import seaborn as sns\n",
    "\n",
    "# Load state data\n",
    "states_b = np.load(os.path.join(\"output\", ENV, \"states.baseline.npy\"))\n",
    "states_r = np.load(os.path.join(\"output\", ENV, \"states.rrt.npy\"))\n",
    "\n",
    "# Set up figure with two subplots in a single row\n",
    "fig, axs = plt.subplots(1, 2, figsize=(10, 6), sharex=True, sharey=True)\n",
    "fig.suptitle(\"State space coverage on the Mountain Car task\")\n",
    "\n",
    "# Set axis limits\n",
    "x_lim, y_lim = (-1.25, 0.5), (-0.07, 0.07)\n",
    "\n",
    "# Plot baseline states with density-based coloring\n",
    "sns.kdeplot(x=states_b[:,0], y=states_b[:,1], fill=True, cmap=\"Blues\", ax=axs[0], thresh=0.05)\n",
    "axs[0].set_title(\"Baseline\")\n",
    "axs[0].set_xlim(x_lim)\n",
    "axs[0].set_ylim(y_lim)\n",
    "axs[0].set_xlabel(\"$x$\")\n",
    "axs[0].set_ylabel(\"$x'$\")\n",
    "\n",
    "# Plot RRT states with density-based coloring\n",
    "sns.kdeplot(x=states_r[:,0], y=states_r[:,1], fill=True, cmap=\"Oranges\", ax=axs[1], thresh=0.05)\n",
    "axs[1].set_title(\"RRT\")\n",
    "axs[1].set_xlim(x_lim)\n",
    "axs[1].set_ylim(y_lim)\n",
    "axs[1].set_xlabel(\"$x$\")\n",
    "\n",
    "# Adjust layout and save the figure\n",
    "plt.tight_layout()\n",
    "plt.savefig(os.path.join(\"output\", ENV, \"coverage_density.png\"), dpi=200)\n",
    "plt.show()\n"
   ],
   "outputs": [],
   "execution_count": null
  },
  {
   "cell_type": "code",
   "metadata": {},
   "source": [
    "states_b[states_b[:,0] >= -0.1]"
   ],
   "outputs": [],
   "execution_count": null
  },
  {
   "cell_type": "code",
   "metadata": {},
   "source": [
    "plt.plot(np.load(os.path.join(\"output\", ENV, \"rewards.dqn.npy\")))"
   ],
   "outputs": [],
   "execution_count": null
  },
  {
   "cell_type": "code",
   "metadata": {},
   "source": [
    "states_b = np.load(os.path.join(\"output\", ENV, \"states.baseline.npy\"))\n",
    "states_e = np.load(os.path.join(\"output\", ENV, \"states.baseline.equivalent.npy\"))\n",
    "states_r = np.load(os.path.join(\"output\", ENV, \"states.rrt.npy\"))"
   ],
   "outputs": [],
   "execution_count": null
  },
  {
   "cell_type": "code",
   "metadata": {},
   "source": [
    "plt.scatter(states_r[:,4], states_r[:,5])\n",
    "plt.xlabel(\"$\\\\theta_1'$\")\n",
    "plt.ylabel(\"$\\\\theta_2'$\")"
   ],
   "outputs": [],
   "execution_count": null
  },
  {
   "cell_type": "code",
   "metadata": {},
   "source": [
    "X, Y = 4, 5\n",
    "plt.scatter(states_e[:,X], states_e[:,Y], c='b', label=\"baseline\", alpha=0.3)\n",
    "plt.scatter(states_r[:,X], states_r[:,Y], c='r', label=\"RRT\", alpha=0.3)\n",
    "plt.legend()\n",
    "plt.title(\"Acrobot: state space coverage with 10000 samples\")\n",
    "plt.xlabel(\"$\\\\theta_1'$\")\n",
    "plt.ylabel(\"$\\\\theta_2'$\")\n",
    "plt.savefig(\"cov.png\", dpi=400)"
   ],
   "outputs": [],
   "execution_count": null
  },
  {
   "cell_type": "code",
   "metadata": {},
   "source": [
    "X, Y = 1, 3\n",
    "plt.scatter(states_e[:,X], states_e[:,Y], c='b', label=\"baseline\", alpha=0.3)\n",
    "plt.scatter(states_r[:,X], states_r[:,Y], c='r', label=\"RRT\", alpha=0.3)\n",
    "plt.legend()\n",
    "plt.title(\"Acrobot: state space coverage with 10000 samples\")\n",
    "plt.xlabel(\"$sin(\\\\theta_1)$\")\n",
    "plt.ylabel(\"$sin(\\\\theta_2)$\")\n",
    "plt.savefig(\"cov2.png\", dpi=400)"
   ],
   "outputs": [],
   "execution_count": null
  },
  {
   "cell_type": "code",
   "metadata": {},
   "source": [
    "states_e.shape, states_r.shape"
   ],
   "outputs": [],
   "execution_count": null
  }
 ],
 "metadata": {
  "kernelspec": {
   "display_name": "venv",
   "language": "python",
   "name": "python3"
  },
  "language_info": {
   "codemirror_mode": {
    "name": "ipython",
    "version": 3
   },
   "file_extension": ".py",
   "mimetype": "text/x-python",
   "name": "python",
   "nbconvert_exporter": "python",
   "pygments_lexer": "ipython3",
   "version": "3.12.7"
  }
 },
 "nbformat": 4,
 "nbformat_minor": 2
}
